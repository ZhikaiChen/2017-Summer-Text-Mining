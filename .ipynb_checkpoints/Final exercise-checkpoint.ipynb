{
 "cells": [
  {
   "cell_type": "code",
   "execution_count": 1,
   "metadata": {
    "collapsed": true
   },
   "outputs": [],
   "source": [
    "import TextAnalysisLibrary\n",
    "import glob,os\n",
    "from sklearn.cluster import KMeans\n",
    "from sklearn.decomposition import PCA\n",
    "import matplotlib.pyplot as plt"
   ]
  },
  {
   "cell_type": "code",
   "execution_count": null,
   "metadata": {
    "collapsed": true
   },
   "outputs": [],
   "source": [
    "corpus_path='/Users/chenzhikai/AnacondaProjects/2017 Summer Research/novels/*txt'\n",
    "austen_path=\"/Users/chenzhikai/AnacondaProjects/2017 Summer Research/stylometric/Austen/*.txt\"\n",
    "alcott_path=\"/Users/chenzhikai/AnacondaProjects/2017 Summer Research/stylometric/Alcott/*.txt\""
   ]
  },
  {
   "cell_type": "code",
   "execution_count": null,
   "metadata": {
    "collapsed": true
   },
   "outputs": [],
   "source": [
    "filenames=glob.glob(corpus_path)\n",
    "corpus=[TextAnalysisLibrary.tokenize(open(f,'r').read()) for f in filenames]"
   ]
  },
  {
   "cell_type": "code",
   "execution_count": null,
   "metadata": {
    "collapsed": true
   },
   "outputs": [],
   "source": [
    "tf_dict=TextAnalysisLibrary.tf_dict(corpus_path)\n",
    "features,counts=TextAnalysisLibrary.feature_extraction(tf_dict,100)"
   ]
  },
  {
   "cell_type": "code",
   "execution_count": null,
   "metadata": {
    "collapsed": true
   },
   "outputs": [],
   "source": [
    "# extract samples by chunking Austen' & Alcott' texts\n",
    "austen_alcott=glob.glob(austen_path) + glob.glob(alcott_path)\n",
    "samples=[]\n",
    "for f in austen_alcott:\n",
    "    text=TextAnalysisLibrary.tokenize(open(f,'r').read())\n",
    "    text_chunks=TextAnalysisLibrary.chunk(text,5000)\n",
    "    samples.extend(text_chunks)"
   ]
  },
  {
   "cell_type": "code",
   "execution_count": null,
   "metadata": {
    "collapsed": true
   },
   "outputs": [],
   "source": [
    "#count fq of features in a sample\n",
    "X=[]\n",
    "for chunk in samples:\n",
    "    vector=MyLibrary.vectorize(features, chunk)\n",
    "    X.append(vector)"
   ]
  },
  {
   "cell_type": "code",
   "execution_count": null,
   "metadata": {
    "collapsed": true
   },
   "outputs": [],
   "source": [
    "# clustering\n",
    "cluster=KMeans(n_clusters=2).fit(X)\n",
    "cluster.labels_"
   ]
  },
  {
   "cell_type": "code",
   "execution_count": null,
   "metadata": {
    "collapsed": true
   },
   "outputs": [],
   "source": [
    "#Visualization using PCA\n",
    "pca=PCA(n_components=2).fit(X)\n",
    "x,y=zip(*pca.transform(X))\n",
    "\n",
    "colors=['r' if boo else 'b' for boo in cluster.labels_]\n",
    "\n",
    "plt.figure(figsize=(15,10))\n",
    "plt.scatter(x,y,s=100,alpha=0.5,c=colors)\n",
    "plt.scatter(x,y)\n",
    "plt.show()"
   ]
  }
 ],
 "metadata": {
  "kernelspec": {
   "display_name": "Python 2",
   "language": "python",
   "name": "python2"
  },
  "language_info": {
   "codemirror_mode": {
    "name": "ipython",
    "version": 2
   },
   "file_extension": ".py",
   "mimetype": "text/x-python",
   "name": "python",
   "nbconvert_exporter": "python",
   "pygments_lexer": "ipython2",
   "version": "2.7.13"
  }
 },
 "nbformat": 4,
 "nbformat_minor": 2
}
