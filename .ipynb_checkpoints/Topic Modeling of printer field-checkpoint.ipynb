{
 "cells": [
  {
   "cell_type": "code",
   "execution_count": 118,
   "metadata": {
    "collapsed": false
   },
   "outputs": [],
   "source": [
    "import re\n",
    "import pandas as pd\n",
    "import matplotlib.pyplot as plt\n",
    "import sklearn.feature_extraction.text\n",
    "import numpy as np\n",
    "from sklearn.decomposition import TruncatedSVD\n",
    "from sklearn.cluster import KMeans\n",
    "from sklearn.manifold import TSNE\n",
    "from sklearn.decomposition import NMF\n",
    "import os"
   ]
  },
  {
   "cell_type": "code",
   "execution_count": 5,
   "metadata": {
    "collapsed": true
   },
   "outputs": [],
   "source": [
    "os.chdir('/Users/chenzhikai/hdw_2017/printer_metadata/Relational database/')"
   ]
  },
  {
   "cell_type": "code",
   "execution_count": 23,
   "metadata": {
    "collapsed": true
   },
   "outputs": [],
   "source": [
    "#Prepocessing\n",
    "path='printers.csv'"
   ]
  },
  {
   "cell_type": "code",
   "execution_count": 24,
   "metadata": {
    "collapsed": true
   },
   "outputs": [],
   "source": [
    "df=pd.read_csv(path,index_col=0,encoding = \"ISO-8859-1\")"
   ]
  },
  {
   "cell_type": "code",
   "execution_count": 25,
   "metadata": {
    "collapsed": false
   },
   "outputs": [],
   "source": [
    "df.dropna(inplace=True)"
   ]
  },
  {
   "cell_type": "code",
   "execution_count": 26,
   "metadata": {
    "collapsed": true
   },
   "outputs": [],
   "source": [
    "stop_words=['and', u'anderson',u'andrew','charles','christopher',\n",
    "           'edward','francis','george','henry','james','john','joseph','london','paul',\n",
    "           'pauls','richard','robert','samuel','smith','thomas','william','baldwin','benjamin',\n",
    "            'his','simmons','the','wright','paules']"
   ]
  },
  {
   "cell_type": "code",
   "execution_count": 27,
   "metadata": {
    "collapsed": true
   },
   "outputs": [],
   "source": [
    "'''Topic modeling with Countervectorizer\n",
    "finely tuned in such a way to remove stop words from the corpus\n",
    "as most freq 1-6 grams as features'''\n",
    "model=sklearn.feature_extraction.text.CountVectorizer(max_df=0.9,min_df=0.01,\n",
    "                                                      stop_words=stop_words,\n",
    "                                                     ngram_range=(1, 6))"
   ]
  },
  {
   "cell_type": "code",
   "execution_count": 28,
   "metadata": {
    "collapsed": false
   },
   "outputs": [],
   "source": [
    "matrix=model.fit_transform(df['publisher'].values.astype('U'))"
   ]
  },
  {
   "cell_type": "code",
   "execution_count": 29,
   "metadata": {
    "collapsed": false
   },
   "outputs": [],
   "source": [
    "#Get feature names\n",
    "name=model.get_feature_names()"
   ]
  },
  {
   "cell_type": "code",
   "execution_count": 119,
   "metadata": {
    "collapsed": false
   },
   "outputs": [
    {
     "data": {
      "text/plain": [
       "TruncatedSVD(algorithm='randomized', n_components=20, n_iter=5,\n",
       "       random_state=None, tol=0.0)"
      ]
     },
     "execution_count": 119,
     "metadata": {},
     "output_type": "execute_result"
    }
   ],
   "source": [
    "'''Use truncatedSVD on csr_matrix to get a good approxmation of\n",
    "optimal num of topics'''\n",
    "svd = TruncatedSVD(n_components=20)\n",
    "svd.fit(matrix)"
   ]
  },
  {
   "cell_type": "code",
   "execution_count": 121,
   "metadata": {
    "collapsed": false
   },
   "outputs": [
    {
     "data": {
      "image/png": "[encoded data removed]",
      "text/plain": [
       "<matplotlib.figure.Figure at 0x11964ed50>"
      ]
     },
     "metadata": {},
     "output_type": "display_data"
    }
   ],
   "source": [
    "comp = range(svd.n_components)\n",
    "plt.bar(comp,svd.explained_variance_)\n",
    "plt.xticks(comp)\n",
    "plt.ylabel('variance')\n",
    "plt.xlabel('SVD feature')\n",
    "plt.show()"
   ]
  },
  {
   "cell_type": "code",
   "execution_count": 122,
   "metadata": {
    "collapsed": true
   },
   "outputs": [],
   "source": [
    "'''Judging from the variances of the components, \n",
    "5 topics are befitting more data'''\n",
    "nmf = NMF(n_components=5)"
   ]
  },
  {
   "cell_type": "code",
   "execution_count": 123,
   "metadata": {
    "collapsed": false
   },
   "outputs": [
    {
     "data": {
      "text/plain": [
       "NMF(alpha=0.0, beta=1, eta=0.1, init=None, l1_ratio=0.0, max_iter=200,\n",
       "  n_components=5, nls_max_iter=2000, random_state=None, shuffle=False,\n",
       "  solver='cd', sparseness=None, tol=0.0001, verbose=0)"
      ]
     },
     "execution_count": 123,
     "metadata": {},
     "output_type": "execute_result"
    }
   ],
   "source": [
    "nmf.fit(matrix)"
   ]
  },
  {
   "cell_type": "code",
   "execution_count": 124,
   "metadata": {
    "collapsed": true
   },
   "outputs": [],
   "source": [
    "nmf_features = nmf.transform(matrix)"
   ]
  },
  {
   "cell_type": "code",
   "execution_count": 178,
   "metadata": {
    "collapsed": false
   },
   "outputs": [],
   "source": [
    "FeatTop=pd.DataFrame(nmf.components_,columns=name).T"
   ]
  },
  {
   "cell_type": "code",
   "execution_count": 136,
   "metadata": {
    "collapsed": false
   },
   "outputs": [],
   "source": [
    "topitem=[]\n",
    "for col in FeatTop:\n",
    "    topitem.append(FeatTop.loc[:,col].nlargest(10).index) "
   ]
  },
  {
   "cell_type": "code",
   "execution_count": 174,
   "metadata": {
    "collapsed": false
   },
   "outputs": [],
   "source": [
    "new=[]\n",
    "for i in range(1,6):\n",
    "    df=pd.DataFrame({'Topic {0}'.format(i):topitem[i-1]})\n",
    "    new.append(df)\n"
   ]
  },
  {
   "cell_type": "code",
   "execution_count": 170,
   "metadata": {
    "collapsed": false
   },
   "outputs": [],
   "source": [
    "TopMod=pd.concat([new[0],new[1],new[2],new[3],new[4]],axis=1)"
   ]
  },
  {
   "cell_type": "code",
   "execution_count": 171,
   "metadata": {
    "collapsed": false
   },
   "outputs": [
    {
     "data": {
      "text/html": [
       "<div>\n",
       "<style>\n",
       "    .dataframe thead tr:only-child th {\n",
       "        text-align: right;\n",
       "    }\n",
       "\n",
       "    .dataframe thead th {\n",
       "        text-align: left;\n",
       "    }\n",
       "\n",
       "    .dataframe tbody tr th {\n",
       "        vertical-align: top;\n",
       "    }\n",
       "</style>\n",
       "<table border=\"1\" class=\"dataframe\">\n",
       "  <thead>\n",
       "    <tr style=\"text-align: right;\">\n",
       "      <th></th>\n",
       "      <th>Topic 1</th>\n",
       "      <th>Topic 2</th>\n",
       "      <th>Topic 3</th>\n",
       "      <th>Topic 4</th>\n",
       "      <th>Topic 5</th>\n",
       "    </tr>\n",
       "  </thead>\n",
       "  <tbody>\n",
       "    <tr>\n",
       "      <th>0</th>\n",
       "      <td>to be</td>\n",
       "      <td>for</td>\n",
       "      <td>by</td>\n",
       "      <td>at</td>\n",
       "      <td>to</td>\n",
       "    </tr>\n",
       "    <tr>\n",
       "      <th>1</th>\n",
       "      <td>be</td>\n",
       "      <td>printed</td>\n",
       "      <td>printed by</td>\n",
       "      <td>in</td>\n",
       "      <td>most</td>\n",
       "    </tr>\n",
       "    <tr>\n",
       "      <th>2</th>\n",
       "      <td>to</td>\n",
       "      <td>printed for</td>\n",
       "      <td>printed</td>\n",
       "      <td>of</td>\n",
       "      <td>by</td>\n",
       "    </tr>\n",
       "    <tr>\n",
       "      <th>3</th>\n",
       "      <td>are to be</td>\n",
       "      <td>in</td>\n",
       "      <td>for</td>\n",
       "      <td>signe</td>\n",
       "      <td>excellent</td>\n",
       "    </tr>\n",
       "    <tr>\n",
       "      <th>4</th>\n",
       "      <td>are to</td>\n",
       "      <td>tho</td>\n",
       "      <td>by for</td>\n",
       "      <td>signe of</td>\n",
       "      <td>most excellent</td>\n",
       "    </tr>\n",
       "    <tr>\n",
       "      <th>5</th>\n",
       "      <td>are</td>\n",
       "      <td>for tho</td>\n",
       "      <td>printed by for</td>\n",
       "      <td>at signe</td>\n",
       "      <td>printer</td>\n",
       "    </tr>\n",
       "    <tr>\n",
       "      <th>6</th>\n",
       "      <td>sold</td>\n",
       "      <td>at</td>\n",
       "      <td>sold by</td>\n",
       "      <td>at signe of</td>\n",
       "      <td>printer to</td>\n",
       "    </tr>\n",
       "    <tr>\n",
       "      <th>7</th>\n",
       "      <td>be sold</td>\n",
       "      <td>printed for tho</td>\n",
       "      <td>of</td>\n",
       "      <td>church</td>\n",
       "      <td>kings</td>\n",
       "    </tr>\n",
       "    <tr>\n",
       "      <th>8</th>\n",
       "      <td>to be sold</td>\n",
       "      <td>author</td>\n",
       "      <td>to</td>\n",
       "      <td>yard</td>\n",
       "      <td>to kings</td>\n",
       "    </tr>\n",
       "    <tr>\n",
       "      <th>9</th>\n",
       "      <td>are to be sold</td>\n",
       "      <td>for author</td>\n",
       "      <td>sold</td>\n",
       "      <td>church yard</td>\n",
       "      <td>kings most</td>\n",
       "    </tr>\n",
       "  </tbody>\n",
       "</table>\n",
       "</div>"
      ],
      "text/plain": [
       "          Topic 1          Topic 2         Topic 3      Topic 4  \\\n",
       "0           to be              for              by           at   \n",
       "1              be          printed      printed by           in   \n",
       "2              to      printed for         printed           of   \n",
       "3       are to be               in             for        signe   \n",
       "4          are to              tho          by for     signe of   \n",
       "5             are          for tho  printed by for     at signe   \n",
       "6            sold               at         sold by  at signe of   \n",
       "7         be sold  printed for tho              of       church   \n",
       "8      to be sold           author              to         yard   \n",
       "9  are to be sold       for author            sold  church yard   \n",
       "\n",
       "          Topic 5  \n",
       "0              to  \n",
       "1            most  \n",
       "2              by  \n",
       "3       excellent  \n",
       "4  most excellent  \n",
       "5         printer  \n",
       "6      printer to  \n",
       "7           kings  \n",
       "8        to kings  \n",
       "9      kings most  "
      ]
     },
     "execution_count": 171,
     "metadata": {},
     "output_type": "execute_result"
    }
   ],
   "source": [
    "TopMod\n",
    "'''5 topics respectively conresponds to the keywords for\n",
    "seller, publisher,printer,location, and institutional affiliations'''"
   ]
  },
  {
   "cell_type": "code",
   "execution_count": null,
   "metadata": {
    "collapsed": true
   },
   "outputs": [],
   "source": []
  }
 ],
 "metadata": {
  "kernelspec": {
   "display_name": "Python 2",
   "language": "python",
   "name": "python2"
  },
  "language_info": {
   "codemirror_mode": {
    "name": "ipython",
    "version": 2
   },
   "file_extension": ".py",
   "mimetype": "text/x-python",
   "name": "python",
   "nbconvert_exporter": "python",
   "pygments_lexer": "ipython2",
   "version": "2.7.13"
  }
 },
 "nbformat": 4,
 "nbformat_minor": 2
}
